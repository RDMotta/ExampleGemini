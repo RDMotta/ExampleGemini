{
  "nbformat": 4,
  "nbformat_minor": 0,
  "metadata": {
    "colab": {
      "provenance": [],
      "toc_visible": true,
      "authorship_tag": "ABX9TyPZ0YN5rdBLz3u0xYXkVSAy",
      "include_colab_link": true
    },
    "kernelspec": {
      "name": "python3",
      "display_name": "Python 3"
    },
    "language_info": {
      "name": "python"
    }
  },
  "cells": [
    {
      "cell_type": "markdown",
      "metadata": {
        "id": "view-in-github",
        "colab_type": "text"
      },
      "source": [
        "<a href=\"https://colab.research.google.com/github/RDMotta/ExampleGemini/blob/main/Google_IA_Gemini.ipynb\" target=\"_parent\"><img src=\"https://colab.research.google.com/assets/colab-badge.svg\" alt=\"Open In Colab\"/></a>"
      ]
    },
    {
      "cell_type": "markdown",
      "source": [],
      "metadata": {
        "id": "mGulHZD3fGuD"
      }
    },
    {
      "cell_type": "markdown",
      "source": [
        "Exemplo de uso da API para consultas usando embedings"
      ],
      "metadata": {
        "id": "Iq66r7ADZkaa"
      }
    },
    {
      "cell_type": "markdown",
      "source": [
        "Instalando no ambiente a biblioteca"
      ],
      "metadata": {
        "id": "IxEc8p5KfHkq"
      }
    },
    {
      "cell_type": "code",
      "source": [
        "!pip install -U -q google-generativeai"
      ],
      "metadata": {
        "id": "fGgwUJzcfRcC"
      },
      "execution_count": 1,
      "outputs": []
    },
    {
      "cell_type": "markdown",
      "source": [
        "Importando configurações iniciais."
      ],
      "metadata": {
        "id": "Zm4kCNIOfY3K"
      }
    },
    {
      "cell_type": "code",
      "source": [
        "import numpy as np\n",
        "from numpy import dot\n",
        "import pandas as pd\n",
        "import google.generativeai as genai"
      ],
      "metadata": {
        "id": "zAIMhyGffcbS"
      },
      "execution_count": 48,
      "outputs": []
    },
    {
      "cell_type": "markdown",
      "source": [
        "Import APIKey from colab"
      ],
      "metadata": {
        "id": "xXtE4_gef7e0"
      }
    },
    {
      "cell_type": "code",
      "source": [
        "from google.colab import userdata\n",
        "GOOGLE_APY_KEY=userdata.get('APIKey')\n",
        "genai.configure(api_key=GOOGLE_APY_KEY)"
      ],
      "metadata": {
        "id": "NC_mxVfcf_vy"
      },
      "execution_count": 5,
      "outputs": []
    },
    {
      "cell_type": "markdown",
      "source": [
        "Listagem dos modelos disponiveis no Gemini para Embeding"
      ],
      "metadata": {
        "id": "eqWSuo5Ogp1j"
      }
    },
    {
      "cell_type": "code",
      "source": [
        "for m in genai.list_models():\n",
        "  if 'embedContent' in m.supported_generation_methods:\n",
        "    print(m.name)"
      ],
      "metadata": {
        "colab": {
          "base_uri": "https://localhost:8080/",
          "height": 52
        },
        "id": "cY-QNM_tgw9U",
        "outputId": "4e0e1e26-6eaf-431d-dc53-93be3b432651"
      },
      "execution_count": 8,
      "outputs": [
        {
          "output_type": "stream",
          "name": "stdout",
          "text": [
            "models/embedding-001\n",
            "models/text-embedding-004\n"
          ]
        }
      ]
    },
    {
      "cell_type": "markdown",
      "source": [
        "Listagem de modelos disponiveis no Gemini para Content"
      ],
      "metadata": {
        "id": "qLiNr3fAhRVl"
      }
    },
    {
      "cell_type": "code",
      "source": [
        "for m in genai.list_models():\n",
        "  if 'embedContent' in m.supported_generation_methods:\n",
        "    print(m.name)"
      ],
      "metadata": {
        "id": "dsuFJsL4hWyM"
      },
      "execution_count": null,
      "outputs": []
    },
    {
      "cell_type": "markdown",
      "source": [
        "Exemplo de geração de embedings\n",
        "\n",
        "documentação> https://ai.google.dev/gemini-api/tutorials/document_search"
      ],
      "metadata": {
        "id": "AXQqj-U2hd3s"
      }
    },
    {
      "cell_type": "code",
      "source": [
        "model_embedding = \"models/embedding-001\""
      ],
      "metadata": {
        "id": "qK52vSitkySQ"
      },
      "execution_count": 33,
      "outputs": []
    },
    {
      "cell_type": "code",
      "source": [
        "title=\"Como treinar seu cachorro\"\n",
        "sample_text=(\"Titulo: Como treinar seu cachorro\"\n",
        "\"\\n\"\n",
        "\"Artigo completo:\\n\"\n",
        "\"\\n\"\n",
        "\"Primeiro tenha um cachorro, segundo de ordem de maneira que seja firme\")\n",
        "\n",
        "embedding = genai.embed_content(\n",
        "    model=model_embedding,\n",
        "    content=sample_text,\n",
        "    title=title,\n",
        "    task_type=\"RETRIEVAL_DOCUMENT\"\n",
        ")\n",
        "\n",
        "print(embedding)\n"
      ],
      "metadata": {
        "colab": {
          "base_uri": "https://localhost:8080/",
          "height": 54
        },
        "collapsed": true,
        "id": "8WDaDzZWhiAs",
        "outputId": "6fbf0074-ddbd-4da1-a633-d18ceaf773c4"
      },
      "execution_count": 17,
      "outputs": [
        {
          "output_type": "stream",
          "name": "stdout",
          "text": [
            "{'embedding': [-0.0009524487, -0.042919304, -0.041207235, 0.0032501654, -0.009115104, 0.018858176, -0.0030579267, 0.0017425981, 0.0018337128, 0.049200147, 0.0029161791, -0.0031915088, 0.011812618, -0.042146023, 0.011349151, 0.0381694, 0.0004834972, 0.029862138, -0.0100270035, -0.010527324, 0.0046214834, 0.007309757, 0.012035757, 0.025599897, -0.0055348063, -0.01751613, 0.036848374, -0.02614904, -0.016761616, 0.021135509, -0.06466269, 0.047979027, -0.04014315, 0.0036526993, 0.014840813, -0.0708564, -0.043158446, 0.014586403, 0.004318746, -0.0011126816, -0.032118194, -0.027418938, -0.05291055, -0.025463503, 0.03720554, 0.015304084, -0.030704983, 0.024597727, 0.04243365, -0.063901655, 0.0102254925, -0.030952081, 0.09755379, -0.006206039, -0.014916176, -0.051302373, 0.07342658, 0.014496983, -0.017368183, -0.0061194818, -0.022130173, 0.012262652, 0.020112162, -0.0017378242, 0.01723077, -0.014321777, -0.069209516, 0.021813823, 0.026047511, 0.0020400211, 0.015986327, -0.027201448, -0.026669398, 0.038244486, 0.00934764, -0.11268227, -0.011226005, 0.045840006, -0.057903327, -0.02297783, 0.024465937, -0.07731102, -0.033035982, -0.03863825, -0.10015101, 0.06002144, -0.08857073, -0.0063829185, -0.005373041, 0.007394963, -0.052016024, -0.009257277, 0.061014816, -0.037893474, -0.0012159477, 0.044294816, -0.042153012, -0.04117901, -0.032004975, -0.039357144, -0.037012767, 0.030845534, -0.051681396, -0.039856814, 0.0682522, -0.009614286, -0.0056312378, 0.060923785, 0.021186735, 0.09495857, -0.051707566, -0.043577574, -0.005472539, 0.0055362023, 0.03822644, 0.0039204624, 0.02984324, 0.0062882076, 0.0005947869, -0.02068843, 0.029133836, 0.049291838, 0.019677717, -0.02892683, 0.003971576, -0.020784892, 0.04473008, 0.046254292, -0.01260602, -0.0032447951, 0.026721105, -0.059695948, 0.0016391571, 0.0066526923, 0.023597997, 0.054816213, 0.03546876, 0.0049390695, -0.023596728, -0.026627392, -0.040904865, 0.02673596, -0.016233305, 0.0039402917, 0.051026493, 0.053610116, -0.0651524, -0.005211981, 0.018182402, -0.02299016, 0.013549629, -0.018949764, -0.064805895, -0.033480532, 0.09470771, 0.014887912, 0.016682876, 0.0143063115, 0.044079237, 0.029679175, 0.05367663, 0.03282073, 0.019135965, 0.03633482, -0.010361853, -0.024411185, -0.058774874, 0.0126913255, 0.01678396, -0.0029028282, 0.009638277, 0.029526122, -0.05862551, -0.03625772, 0.025713889, -0.042689897, -0.023516238, -0.02253173, 0.008131289, 0.022178289, -0.02833393, -0.048991464, -0.01702531, 0.019363012, 0.008370983, -0.04504996, -0.00030730068, 0.030577606, 0.019631801, 0.008987716, 0.009050148, -0.014467991, -0.015483363, -0.013606773, -0.03282081, 0.029038507, -0.029193046, 0.0367989, -0.018736025, -0.064961225, 0.016299145, 0.0685611, 0.0294878, 0.0082758535, 0.02025396, 0.009064525, 0.06990885, -0.034971885, -0.09970201, 0.06787134, -0.043452363, -0.023133688, -0.04202683, 0.008064168, 0.062879235, 0.016928265, 0.027995909, 0.051027264, 0.038762365, -0.053247996, -0.06711632, 0.0037261483, -0.021551516, 0.020097135, -0.04194873, -0.004954634, -0.03326559, 0.018550135, -0.018121028, -0.06547702, 0.03425329, 0.037072346, 0.04292569, -0.00016153668, 0.030449884, 0.0033239024, 0.016726105, 0.026509412, 0.015574842, 0.051314164, -0.06235992, 0.030490411, 0.027864896, 0.041651785, -0.051227015, -0.04740909, -0.045787588, 0.047185466, -0.025135027, 0.05002681, -0.032513317, -0.04780302, -0.011494356, 0.013192403, -0.01655335, -0.006157314, -0.058036726, 0.0135602085, 0.010935313, 0.047588117, 0.053217217, 0.020961186, -0.025651693, -0.015576747, -0.0040705297, 0.031001015, 0.04110056, -0.035085496, 0.033929605, 0.01538805, -0.009518547, -0.020524217, 0.032525185, 0.03636677, 0.024947044, 0.03887187, -0.033558708, 0.07704205, 0.048669107, -0.034557708, -0.0050744917, 0.042753223, 0.020401366, -0.020745657, -0.017981868, -0.001778944, -0.02781633, -0.035982642, 0.04529922, -0.04297561, -0.047803752, -0.01113997, -0.0018931807, -0.04202438, -0.07565299, 0.009081604, 0.0058937096, -0.006188735, 0.04578115, -0.019743051, 0.006843105, -0.078134865, 0.03545705, -0.07265501, 0.0095560085, -0.0019655142, -0.012574071, -0.039638583, -0.014086359, 0.025052454, 0.0130981635, 0.0344732, -0.049042188, -0.0030997351, 0.047124177, 0.08050002, -0.029061731, 0.005809045, -0.011084898, 0.044601616, 0.009836778, 0.09651643, -0.0056846673, -0.01300883, 0.030389596, 0.037323944, 0.015880333, 0.015986342, -0.008613241, -0.007520352, -0.013660195, 0.005876474, -0.038619414, 0.019092236, -0.015203208, 0.023766985, -0.026366068, 0.009019334, -0.008016796, -5.4418015e-05, 0.025198437, 0.004745827, -0.014939149, -0.03158337, 0.023284031, 0.034013763, -0.016258711, -0.024292886, 0.047530916, 0.049001127, -0.016347405, 0.028786788, -0.038168646, -0.000728155, 0.00888072, -0.047007747, 0.025643159, -0.010346713, 0.02058876, 0.019162787, -0.02207953, 0.017088966, -0.039723445, 0.010412079, -0.0060132565, 0.015395067, -0.012844245, 0.046433784, 0.018526053, 0.038704302, -0.004430453, -0.019123172, 0.009136343, -0.022861306, -0.011911041, -0.012656096, 0.040520772, -0.07747802, -0.008129574, 0.03032023, -0.0037781505, -0.047825918, 0.061759517, 0.036680292, 0.0006156143, -0.030167997, 0.033658028, 0.021798855, 0.01470074, 0.023146177, -0.0011631476, 0.03901268, 0.09357136, 0.04461204, 0.00030463515, -0.080782056, 0.020378299, -0.032058872, -0.024256483, -0.009366342, -0.0024584723, -0.00070152525, -0.030707976, -0.051448427, -0.049521502, -0.029479824, 0.021499343, -0.05006456, -0.02181467, -0.025901152, 0.01696033, 0.025894905, 0.0018328625, -0.04176085, -0.07480987, 0.0012652786, 0.007527439, -0.009110702, 0.01037385, -0.0051414166, -0.010457068, -0.02674299, 0.0414953, 0.013902661, -0.037037004, -0.081199065, 0.0115733, -0.011287633, 0.022217898, 0.05828399, 0.0092587955, 0.016851742, 0.020882541, -0.042926855, 0.018421704, -0.037446737, -0.0070297043, 0.038703933, -0.015579231, 0.009294219, 0.04463724, 0.004410448, 0.051005956, 0.007211521, -0.027120603, -0.043512087, 0.032198895, -0.0096507035, 0.029952496, -0.104235046, 0.012057443, -0.051311377, -0.0420139, -0.0645866, 0.00021266795, 0.017125333, -0.009150643, 0.01949365, -0.022235474, 0.0054242685, -0.0006676428, -0.057473637, -0.029012017, -0.025064504, 0.049782522, 0.0045234356, 0.03670333, -0.02044936, -0.03373714, 0.022098927, 0.011064664, -0.026030965, 0.018622153, -0.007267501, -0.004235114, -0.032798707, -0.084659986, 0.014161181, -0.041244797, 0.024570335, 0.01564124, 0.05318217, -0.017295802, 0.0017742314, 0.014517458, 0.019422434, -0.0054420247, -0.0017238368, 0.027442982, 0.030231202, -0.0484181, -0.020635644, -0.0463429, -0.02312863, 0.019580798, 0.0078986185, -0.0009227862, 0.03885205, 0.025219427, 0.056807514, -0.01829978, -0.0072960146, -0.03589574, -0.011754761, 0.0114305755, -0.031877916, 0.061532047, 0.0084266085, 0.029757284, 0.036891617, -0.0006628121, 0.02557921, 0.015588474, -0.0018759223, 0.05584986, -0.03765937, 0.016975272, 0.025209164, -0.018965058, 0.0648087, 0.03201578, 0.011664049, -0.052731816, 0.0023425773, -0.036399018, -0.038238827, 0.017442381, 0.01582665, -0.0061069126, 0.03443076, -0.005145668, 0.08562201, -0.042645924, 0.01736518, 0.038810376, -0.0065439423, 0.06600775, 0.0051730527, 0.056572437, -0.022426467, 0.023129908, -0.022649452, 0.023771372, 0.04450113, -0.059168063, -0.021022715, -0.018724686, -0.06576716, 0.018178422, 0.02327127, 0.010639924, 0.018208494, -0.023013402, -0.09251302, 0.058165923, -0.027064243, -0.00024822788, 0.00054402207, 0.036456667, -0.0008775115, 0.047273986, 0.018903172, -0.036055345, 0.014645514, 0.06567509, -0.013907372, -0.054713674, -0.055460814, 0.052577455, 0.0006806011, 0.009720469, 0.024718372, 0.009619297, 0.03141161, 0.016237782, -0.031272653, -0.022779373, -0.02956708, 0.017539814, -0.02660513, 0.0125217065, 0.010857901, 0.016772144, 0.013891064, -0.008896288, 0.027468404, 0.015999993, 0.08385669, 0.038899425, 0.0406234, -0.06820368, 0.05076042, -0.0042145364, 0.054913837, -0.03865994, 0.025390565, -0.0026359875, -0.05131869, -0.020831233, -0.02412093, 0.034939576, -0.058146104, 0.065990485, -0.008996393, 0.019323291, -0.013924969, 0.009032313, 0.042826626, -0.058751494, 0.023266373, -0.049992066, -0.023497717, 0.014224372, -0.026289707, -0.012778908, -0.02024703, 0.074251436, 0.012361686, -0.019622907, 0.001781756, -0.029490933, 0.0028195742, -0.038217865, 0.014911694, 0.034876328, -0.01020135, 0.008018324, -0.02964405, 0.065255016, 0.04841261, 0.04985088, 0.084479146, 0.025206463, -0.008434265, 0.021050107, 0.04332165, -0.003536833, 0.025539739, 0.06378944, 0.010770872, -0.107903235, 0.032648575, 0.004810896, 0.032682832, -0.04519371, 0.07965176, -0.027511936, -0.036814325, -0.0739252, -0.0311289, -0.030460918, 0.025441995, -0.0016170198, 0.036923178, 0.07212073, 0.024966592, -0.012752671, -0.015556343, 0.033837005, -0.0033307788, -0.06562109, -0.022499086, 0.03160957, 0.0368294, 2.8518841e-06, -0.0034804414, -0.024524575, -0.013487199, 0.0032852401, 0.08873585, -0.051483, 0.03164181, 0.044660665, 0.0032069013, 0.026409088, -0.017502563, -0.028797185, 0.036680274, 0.003071073, -0.017843101, -0.0566364, 0.008701248, -0.054692555, -0.017564133, -0.03639857, 0.013815526, 0.045279462, -0.013942423, -0.03256844, -0.074789174, 0.0021347515, -0.024021594, 0.018910214, -0.015579614, 0.05032888, -0.017098082, -0.02759108, -0.005842085, 0.030934025, 0.06264121, 0.029223245, -0.015439073, -0.050434098, 0.017205307, 0.03574183, 0.0043795076, 0.024334863, 0.0081492355, -0.0071505485, 0.037861902, 0.008430711, -0.013461681, -0.070003845, 0.034652334, 0.017375028, -0.034093667, 0.011112313, 0.015039899, -0.054476947, 0.10890274, 0.05747735, 0.027023563, -8.113066e-05, -0.015410705, -0.031922612, 0.058967777, -0.031509895, -0.006780533, -0.022511913, 0.019689437, 0.06093587, 0.012080721, 0.012684007, 0.0033743393, -0.05128778, 0.074181035, -0.009698797, 0.057150837, -0.05992543, -0.13241003, -0.027366314, -0.015614906, -0.016051207, 0.04444617, 0.020172296, -0.04694065, -0.042633068, -0.055929016, -0.058910057, -0.01165128, -0.028740153, -0.032384597, -0.023741495, -0.017616525, 0.023637285, 0.02877636, 0.004171532, 0.006878495, 0.048609562, 0.0019227539, -0.0134089, -0.005599897, 0.020715376, -0.013030325, 0.026672048, 0.027993357, 0.0066669066, 0.02206711]}\n"
          ]
        }
      ]
    },
    {
      "cell_type": "markdown",
      "source": [
        "Listando documentos para serem usados em buscas"
      ],
      "metadata": {
        "id": "NTpoJFt-ji02"
      }
    },
    {
      "cell_type": "code",
      "source": [
        "DOCUMENT_1 = {\n",
        "    \"Titulo\":\"Encerramento de Contratos\",\n",
        "    \"Conteudo\": \"Agora, os administradores podem cadastrar novos motivos de cancelamento e habilitá-los para unidades de negócios específicas. Na mesma tela, também será possível ativar/desativar o fluxo de distrato por e-mail para cada motivo de cancelamento, permitindo também a seleção dos destinatários das notificações de distrato.\"\n",
        "}\n",
        "\n",
        "DOCUMENT_2 = {\n",
        "    \"Titulo\":\"Comunicação de Distratos\",\n",
        "    \"Conteudo\": \"Quando ocorrer uma solicitação de distrato, o sistema notifica o cliente com base no(s) motivo(s) selecionado(s), enviando o e-mail na língua oficial do país do cliente. Não sendo Português ou Espanhol, o padrão será Inglês.\"\n",
        "}\n",
        "\n",
        "DOCUMENT_3 = {\n",
        "    \"Titulo\":\"Agrupamento de regras\",\n",
        "    \"Conteudo\": \"Visando a facilidade de configurar contratos com cálculos que muitas vezes se repetem, foi disponibilizado um agrupamento de regras no sistema, assim ao configurar um agrupamento para as regras na unidade especifica, o sistema possibilita carregar e configurar no contrato as regras do agrupamento\"\n",
        "    \"\\n\"\n",
        "    \"Após definir um agrupamento em um item de contrato, também é possivel filtrar os mesmos pela tela de contratos, facilitando a localização de contratos com os tipos de configurações especificas\"\n",
        "}\n",
        "\n",
        "documents = [DOCUMENT_1, DOCUMENT_2, DOCUMENT_3]"
      ],
      "metadata": {
        "id": "vFT-rmK9jlsO"
      },
      "execution_count": 40,
      "outputs": []
    },
    {
      "cell_type": "markdown",
      "source": [
        "Usando Pandas para criar DataFrame e poder trabalhar os dados"
      ],
      "metadata": {
        "id": "7kWNVtnpkCSn"
      }
    },
    {
      "cell_type": "code",
      "source": [
        "df = pd.DataFrame(documents)\n",
        "df"
      ],
      "metadata": {
        "colab": {
          "base_uri": "https://localhost:8080/",
          "height": 143
        },
        "id": "zb_8Dk-DkHRX",
        "outputId": "33b6f699-c3be-43f6-bc8a-64e476f50023"
      },
      "execution_count": 41,
      "outputs": [
        {
          "output_type": "execute_result",
          "data": {
            "text/plain": [
              "                      Titulo  \\\n",
              "0  Encerramento de Contratos   \n",
              "1   Comunicação de Distratos   \n",
              "2      Agrupamento de regras   \n",
              "\n",
              "                                            Conteudo  \n",
              "0  Agora, os administradores podem cadastrar novo...  \n",
              "1  Quando ocorrer uma solicitação de distrato, o ...  \n",
              "2  Visando a facilidade de configurar contratos c...  "
            ],
            "text/html": [
              "\n",
              "  <div id=\"df-5fd2133a-64d1-4e4a-adbe-3e8c92baf1fc\" class=\"colab-df-container\">\n",
              "    <div>\n",
              "<style scoped>\n",
              "    .dataframe tbody tr th:only-of-type {\n",
              "        vertical-align: middle;\n",
              "    }\n",
              "\n",
              "    .dataframe tbody tr th {\n",
              "        vertical-align: top;\n",
              "    }\n",
              "\n",
              "    .dataframe thead th {\n",
              "        text-align: right;\n",
              "    }\n",
              "</style>\n",
              "<table border=\"1\" class=\"dataframe\">\n",
              "  <thead>\n",
              "    <tr style=\"text-align: right;\">\n",
              "      <th></th>\n",
              "      <th>Titulo</th>\n",
              "      <th>Conteudo</th>\n",
              "    </tr>\n",
              "  </thead>\n",
              "  <tbody>\n",
              "    <tr>\n",
              "      <th>0</th>\n",
              "      <td>Encerramento de Contratos</td>\n",
              "      <td>Agora, os administradores podem cadastrar novo...</td>\n",
              "    </tr>\n",
              "    <tr>\n",
              "      <th>1</th>\n",
              "      <td>Comunicação de Distratos</td>\n",
              "      <td>Quando ocorrer uma solicitação de distrato, o ...</td>\n",
              "    </tr>\n",
              "    <tr>\n",
              "      <th>2</th>\n",
              "      <td>Agrupamento de regras</td>\n",
              "      <td>Visando a facilidade de configurar contratos c...</td>\n",
              "    </tr>\n",
              "  </tbody>\n",
              "</table>\n",
              "</div>\n",
              "    <div class=\"colab-df-buttons\">\n",
              "\n",
              "  <div class=\"colab-df-container\">\n",
              "    <button class=\"colab-df-convert\" onclick=\"convertToInteractive('df-5fd2133a-64d1-4e4a-adbe-3e8c92baf1fc')\"\n",
              "            title=\"Convert this dataframe to an interactive table.\"\n",
              "            style=\"display:none;\">\n",
              "\n",
              "  <svg xmlns=\"http://www.w3.org/2000/svg\" height=\"24px\" viewBox=\"0 -960 960 960\">\n",
              "    <path d=\"M120-120v-720h720v720H120Zm60-500h600v-160H180v160Zm220 220h160v-160H400v160Zm0 220h160v-160H400v160ZM180-400h160v-160H180v160Zm440 0h160v-160H620v160ZM180-180h160v-160H180v160Zm440 0h160v-160H620v160Z\"/>\n",
              "  </svg>\n",
              "    </button>\n",
              "\n",
              "  <style>\n",
              "    .colab-df-container {\n",
              "      display:flex;\n",
              "      gap: 12px;\n",
              "    }\n",
              "\n",
              "    .colab-df-convert {\n",
              "      background-color: #E8F0FE;\n",
              "      border: none;\n",
              "      border-radius: 50%;\n",
              "      cursor: pointer;\n",
              "      display: none;\n",
              "      fill: #1967D2;\n",
              "      height: 32px;\n",
              "      padding: 0 0 0 0;\n",
              "      width: 32px;\n",
              "    }\n",
              "\n",
              "    .colab-df-convert:hover {\n",
              "      background-color: #E2EBFA;\n",
              "      box-shadow: 0px 1px 2px rgba(60, 64, 67, 0.3), 0px 1px 3px 1px rgba(60, 64, 67, 0.15);\n",
              "      fill: #174EA6;\n",
              "    }\n",
              "\n",
              "    .colab-df-buttons div {\n",
              "      margin-bottom: 4px;\n",
              "    }\n",
              "\n",
              "    [theme=dark] .colab-df-convert {\n",
              "      background-color: #3B4455;\n",
              "      fill: #D2E3FC;\n",
              "    }\n",
              "\n",
              "    [theme=dark] .colab-df-convert:hover {\n",
              "      background-color: #434B5C;\n",
              "      box-shadow: 0px 1px 3px 1px rgba(0, 0, 0, 0.15);\n",
              "      filter: drop-shadow(0px 1px 2px rgba(0, 0, 0, 0.3));\n",
              "      fill: #FFFFFF;\n",
              "    }\n",
              "  </style>\n",
              "\n",
              "    <script>\n",
              "      const buttonEl =\n",
              "        document.querySelector('#df-5fd2133a-64d1-4e4a-adbe-3e8c92baf1fc button.colab-df-convert');\n",
              "      buttonEl.style.display =\n",
              "        google.colab.kernel.accessAllowed ? 'block' : 'none';\n",
              "\n",
              "      async function convertToInteractive(key) {\n",
              "        const element = document.querySelector('#df-5fd2133a-64d1-4e4a-adbe-3e8c92baf1fc');\n",
              "        const dataTable =\n",
              "          await google.colab.kernel.invokeFunction('convertToInteractive',\n",
              "                                                    [key], {});\n",
              "        if (!dataTable) return;\n",
              "\n",
              "        const docLinkHtml = 'Like what you see? Visit the ' +\n",
              "          '<a target=\"_blank\" href=https://colab.research.google.com/notebooks/data_table.ipynb>data table notebook</a>'\n",
              "          + ' to learn more about interactive tables.';\n",
              "        element.innerHTML = '';\n",
              "        dataTable['output_type'] = 'display_data';\n",
              "        await google.colab.output.renderOutput(dataTable, element);\n",
              "        const docLink = document.createElement('div');\n",
              "        docLink.innerHTML = docLinkHtml;\n",
              "        element.appendChild(docLink);\n",
              "      }\n",
              "    </script>\n",
              "  </div>\n",
              "\n",
              "\n",
              "<div id=\"df-05406e11-cef6-4879-b639-b8b0c4117e3e\">\n",
              "  <button class=\"colab-df-quickchart\" onclick=\"quickchart('df-05406e11-cef6-4879-b639-b8b0c4117e3e')\"\n",
              "            title=\"Suggest charts\"\n",
              "            style=\"display:none;\">\n",
              "\n",
              "<svg xmlns=\"http://www.w3.org/2000/svg\" height=\"24px\"viewBox=\"0 0 24 24\"\n",
              "     width=\"24px\">\n",
              "    <g>\n",
              "        <path d=\"M19 3H5c-1.1 0-2 .9-2 2v14c0 1.1.9 2 2 2h14c1.1 0 2-.9 2-2V5c0-1.1-.9-2-2-2zM9 17H7v-7h2v7zm4 0h-2V7h2v10zm4 0h-2v-4h2v4z\"/>\n",
              "    </g>\n",
              "</svg>\n",
              "  </button>\n",
              "\n",
              "<style>\n",
              "  .colab-df-quickchart {\n",
              "      --bg-color: #E8F0FE;\n",
              "      --fill-color: #1967D2;\n",
              "      --hover-bg-color: #E2EBFA;\n",
              "      --hover-fill-color: #174EA6;\n",
              "      --disabled-fill-color: #AAA;\n",
              "      --disabled-bg-color: #DDD;\n",
              "  }\n",
              "\n",
              "  [theme=dark] .colab-df-quickchart {\n",
              "      --bg-color: #3B4455;\n",
              "      --fill-color: #D2E3FC;\n",
              "      --hover-bg-color: #434B5C;\n",
              "      --hover-fill-color: #FFFFFF;\n",
              "      --disabled-bg-color: #3B4455;\n",
              "      --disabled-fill-color: #666;\n",
              "  }\n",
              "\n",
              "  .colab-df-quickchart {\n",
              "    background-color: var(--bg-color);\n",
              "    border: none;\n",
              "    border-radius: 50%;\n",
              "    cursor: pointer;\n",
              "    display: none;\n",
              "    fill: var(--fill-color);\n",
              "    height: 32px;\n",
              "    padding: 0;\n",
              "    width: 32px;\n",
              "  }\n",
              "\n",
              "  .colab-df-quickchart:hover {\n",
              "    background-color: var(--hover-bg-color);\n",
              "    box-shadow: 0 1px 2px rgba(60, 64, 67, 0.3), 0 1px 3px 1px rgba(60, 64, 67, 0.15);\n",
              "    fill: var(--button-hover-fill-color);\n",
              "  }\n",
              "\n",
              "  .colab-df-quickchart-complete:disabled,\n",
              "  .colab-df-quickchart-complete:disabled:hover {\n",
              "    background-color: var(--disabled-bg-color);\n",
              "    fill: var(--disabled-fill-color);\n",
              "    box-shadow: none;\n",
              "  }\n",
              "\n",
              "  .colab-df-spinner {\n",
              "    border: 2px solid var(--fill-color);\n",
              "    border-color: transparent;\n",
              "    border-bottom-color: var(--fill-color);\n",
              "    animation:\n",
              "      spin 1s steps(1) infinite;\n",
              "  }\n",
              "\n",
              "  @keyframes spin {\n",
              "    0% {\n",
              "      border-color: transparent;\n",
              "      border-bottom-color: var(--fill-color);\n",
              "      border-left-color: var(--fill-color);\n",
              "    }\n",
              "    20% {\n",
              "      border-color: transparent;\n",
              "      border-left-color: var(--fill-color);\n",
              "      border-top-color: var(--fill-color);\n",
              "    }\n",
              "    30% {\n",
              "      border-color: transparent;\n",
              "      border-left-color: var(--fill-color);\n",
              "      border-top-color: var(--fill-color);\n",
              "      border-right-color: var(--fill-color);\n",
              "    }\n",
              "    40% {\n",
              "      border-color: transparent;\n",
              "      border-right-color: var(--fill-color);\n",
              "      border-top-color: var(--fill-color);\n",
              "    }\n",
              "    60% {\n",
              "      border-color: transparent;\n",
              "      border-right-color: var(--fill-color);\n",
              "    }\n",
              "    80% {\n",
              "      border-color: transparent;\n",
              "      border-right-color: var(--fill-color);\n",
              "      border-bottom-color: var(--fill-color);\n",
              "    }\n",
              "    90% {\n",
              "      border-color: transparent;\n",
              "      border-bottom-color: var(--fill-color);\n",
              "    }\n",
              "  }\n",
              "</style>\n",
              "\n",
              "  <script>\n",
              "    async function quickchart(key) {\n",
              "      const quickchartButtonEl =\n",
              "        document.querySelector('#' + key + ' button');\n",
              "      quickchartButtonEl.disabled = true;  // To prevent multiple clicks.\n",
              "      quickchartButtonEl.classList.add('colab-df-spinner');\n",
              "      try {\n",
              "        const charts = await google.colab.kernel.invokeFunction(\n",
              "            'suggestCharts', [key], {});\n",
              "      } catch (error) {\n",
              "        console.error('Error during call to suggestCharts:', error);\n",
              "      }\n",
              "      quickchartButtonEl.classList.remove('colab-df-spinner');\n",
              "      quickchartButtonEl.classList.add('colab-df-quickchart-complete');\n",
              "    }\n",
              "    (() => {\n",
              "      let quickchartButtonEl =\n",
              "        document.querySelector('#df-05406e11-cef6-4879-b639-b8b0c4117e3e button');\n",
              "      quickchartButtonEl.style.display =\n",
              "        google.colab.kernel.accessAllowed ? 'block' : 'none';\n",
              "    })();\n",
              "  </script>\n",
              "</div>\n",
              "\n",
              "  <div id=\"id_dd4dd76e-477f-40d0-9960-2141d1e1c47f\">\n",
              "    <style>\n",
              "      .colab-df-generate {\n",
              "        background-color: #E8F0FE;\n",
              "        border: none;\n",
              "        border-radius: 50%;\n",
              "        cursor: pointer;\n",
              "        display: none;\n",
              "        fill: #1967D2;\n",
              "        height: 32px;\n",
              "        padding: 0 0 0 0;\n",
              "        width: 32px;\n",
              "      }\n",
              "\n",
              "      .colab-df-generate:hover {\n",
              "        background-color: #E2EBFA;\n",
              "        box-shadow: 0px 1px 2px rgba(60, 64, 67, 0.3), 0px 1px 3px 1px rgba(60, 64, 67, 0.15);\n",
              "        fill: #174EA6;\n",
              "      }\n",
              "\n",
              "      [theme=dark] .colab-df-generate {\n",
              "        background-color: #3B4455;\n",
              "        fill: #D2E3FC;\n",
              "      }\n",
              "\n",
              "      [theme=dark] .colab-df-generate:hover {\n",
              "        background-color: #434B5C;\n",
              "        box-shadow: 0px 1px 3px 1px rgba(0, 0, 0, 0.15);\n",
              "        filter: drop-shadow(0px 1px 2px rgba(0, 0, 0, 0.3));\n",
              "        fill: #FFFFFF;\n",
              "      }\n",
              "    </style>\n",
              "    <button class=\"colab-df-generate\" onclick=\"generateWithVariable('df')\"\n",
              "            title=\"Generate code using this dataframe.\"\n",
              "            style=\"display:none;\">\n",
              "\n",
              "  <svg xmlns=\"http://www.w3.org/2000/svg\" height=\"24px\"viewBox=\"0 0 24 24\"\n",
              "       width=\"24px\">\n",
              "    <path d=\"M7,19H8.4L18.45,9,17,7.55,7,17.6ZM5,21V16.75L18.45,3.32a2,2,0,0,1,2.83,0l1.4,1.43a1.91,1.91,0,0,1,.58,1.4,1.91,1.91,0,0,1-.58,1.4L9.25,21ZM18.45,9,17,7.55Zm-12,3A5.31,5.31,0,0,0,4.9,8.1,5.31,5.31,0,0,0,1,6.5,5.31,5.31,0,0,0,4.9,4.9,5.31,5.31,0,0,0,6.5,1,5.31,5.31,0,0,0,8.1,4.9,5.31,5.31,0,0,0,12,6.5,5.46,5.46,0,0,0,6.5,12Z\"/>\n",
              "  </svg>\n",
              "    </button>\n",
              "    <script>\n",
              "      (() => {\n",
              "      const buttonEl =\n",
              "        document.querySelector('#id_dd4dd76e-477f-40d0-9960-2141d1e1c47f button.colab-df-generate');\n",
              "      buttonEl.style.display =\n",
              "        google.colab.kernel.accessAllowed ? 'block' : 'none';\n",
              "\n",
              "      buttonEl.onclick = () => {\n",
              "        google.colab.notebook.generateWithVariable('df');\n",
              "      }\n",
              "      })();\n",
              "    </script>\n",
              "  </div>\n",
              "\n",
              "    </div>\n",
              "  </div>\n"
            ],
            "application/vnd.google.colaboratory.intrinsic+json": {
              "type": "dataframe",
              "variable_name": "df",
              "summary": "{\n  \"name\": \"df\",\n  \"rows\": 3,\n  \"fields\": [\n    {\n      \"column\": \"Titulo\",\n      \"properties\": {\n        \"dtype\": \"string\",\n        \"num_unique_values\": 3,\n        \"samples\": [\n          \"Encerramento de Contratos\",\n          \"Comunica\\u00e7\\u00e3o de Distratos\",\n          \"Agrupamento de regras\"\n        ],\n        \"semantic_type\": \"\",\n        \"description\": \"\"\n      }\n    },\n    {\n      \"column\": \"Conteudo\",\n      \"properties\": {\n        \"dtype\": \"string\",\n        \"num_unique_values\": 3,\n        \"samples\": [\n          \"Agora, os administradores podem cadastrar novos motivos de cancelamento e habilit\\u00e1-los para unidades de neg\\u00f3cios espec\\u00edficas. Na mesma tela, tamb\\u00e9m ser\\u00e1 poss\\u00edvel ativar/desativar o fluxo de distrato por e-mail para cada motivo de cancelamento, permitindo tamb\\u00e9m a sele\\u00e7\\u00e3o dos destinat\\u00e1rios das notifica\\u00e7\\u00f5es de distrato.\",\n          \"Quando ocorrer uma solicita\\u00e7\\u00e3o de distrato, o sistema notifica o cliente com base no(s) motivo(s) selecionado(s), enviando o e-mail na l\\u00edngua oficial do pa\\u00eds do cliente. N\\u00e3o sendo Portugu\\u00eas ou Espanhol, o padr\\u00e3o ser\\u00e1 Ingl\\u00eas.\",\n          \"Visando a facilidade de configurar contratos com c\\u00e1lculos que muitas vezes se repetem, foi disponibilizado um agrupamento de regras no sistema, assim ao configurar um agrupamento para as regras na unidade especifica, o sistema possibilita carregar e configurar no contrato as regras do agrupamento\\nAp\\u00f3s definir um agrupamento em um item de contrato, tamb\\u00e9m \\u00e9 possivel filtrar os mesmos pela tela de contratos, facilitando a localiza\\u00e7\\u00e3o de contratos com os tipos de configura\\u00e7\\u00f5es especificas\"\n        ],\n        \"semantic_type\": \"\",\n        \"description\": \"\"\n      }\n    }\n  ]\n}"
            }
          },
          "metadata": {},
          "execution_count": 41
        }
      ]
    },
    {
      "cell_type": "markdown",
      "source": [
        "Criando função para gerar novos embedins com base nos dados de entrada."
      ],
      "metadata": {
        "id": "n0x06e6Uk_M_"
      }
    },
    {
      "cell_type": "code",
      "source": [
        "def generate_embedings(title, text):\n",
        "  embeddings = genai.embed_content(model=model_embedding,\n",
        "                                  content=text,\n",
        "                                  title=title,\n",
        "                                  task_type=\"RETRIEVAL_DOCUMENT\")\n",
        "  return embeddings[\"embedding\"]"
      ],
      "metadata": {
        "id": "MmbqZp2SlDDH"
      },
      "execution_count": 42,
      "outputs": []
    },
    {
      "cell_type": "markdown",
      "source": [
        "Atualizando DataFrame com nova coluna para vincular o embedding gerado"
      ],
      "metadata": {
        "id": "icTk7esAlrOx"
      }
    },
    {
      "cell_type": "code",
      "source": [
        "df[\"Embeddings\"] = df.apply(lambda row: generate_embedings(row[\"Titulo\"], row[\"Conteudo\"]), axis=1)\n",
        "df"
      ],
      "metadata": {
        "colab": {
          "base_uri": "https://localhost:8080/",
          "height": 195
        },
        "id": "b8RhcbQslx8J",
        "outputId": "65c6c236-3fe5-488e-c10b-f774af561a68"
      },
      "execution_count": 43,
      "outputs": [
        {
          "output_type": "execute_result",
          "data": {
            "text/plain": [
              "                      Titulo  \\\n",
              "0  Encerramento de Contratos   \n",
              "1   Comunicação de Distratos   \n",
              "2      Agrupamento de regras   \n",
              "\n",
              "                                            Conteudo  \\\n",
              "0  Agora, os administradores podem cadastrar novo...   \n",
              "1  Quando ocorrer uma solicitação de distrato, o ...   \n",
              "2  Visando a facilidade de configurar contratos c...   \n",
              "\n",
              "                                          Embeddings  \n",
              "0  [0.005925163, -0.022211492, -0.08218023, 0.006...  \n",
              "1  [-0.0009933693, -0.040826205, -0.0450991, 0.00...  \n",
              "2  [0.03992304, -0.0023297227, -0.016508946, 0.04...  "
            ],
            "text/html": [
              "\n",
              "  <div id=\"df-df9e563d-deb4-4e7c-9fff-7b7acb6fccf4\" class=\"colab-df-container\">\n",
              "    <div>\n",
              "<style scoped>\n",
              "    .dataframe tbody tr th:only-of-type {\n",
              "        vertical-align: middle;\n",
              "    }\n",
              "\n",
              "    .dataframe tbody tr th {\n",
              "        vertical-align: top;\n",
              "    }\n",
              "\n",
              "    .dataframe thead th {\n",
              "        text-align: right;\n",
              "    }\n",
              "</style>\n",
              "<table border=\"1\" class=\"dataframe\">\n",
              "  <thead>\n",
              "    <tr style=\"text-align: right;\">\n",
              "      <th></th>\n",
              "      <th>Titulo</th>\n",
              "      <th>Conteudo</th>\n",
              "      <th>Embeddings</th>\n",
              "    </tr>\n",
              "  </thead>\n",
              "  <tbody>\n",
              "    <tr>\n",
              "      <th>0</th>\n",
              "      <td>Encerramento de Contratos</td>\n",
              "      <td>Agora, os administradores podem cadastrar novo...</td>\n",
              "      <td>[0.005925163, -0.022211492, -0.08218023, 0.006...</td>\n",
              "    </tr>\n",
              "    <tr>\n",
              "      <th>1</th>\n",
              "      <td>Comunicação de Distratos</td>\n",
              "      <td>Quando ocorrer uma solicitação de distrato, o ...</td>\n",
              "      <td>[-0.0009933693, -0.040826205, -0.0450991, 0.00...</td>\n",
              "    </tr>\n",
              "    <tr>\n",
              "      <th>2</th>\n",
              "      <td>Agrupamento de regras</td>\n",
              "      <td>Visando a facilidade de configurar contratos c...</td>\n",
              "      <td>[0.03992304, -0.0023297227, -0.016508946, 0.04...</td>\n",
              "    </tr>\n",
              "  </tbody>\n",
              "</table>\n",
              "</div>\n",
              "    <div class=\"colab-df-buttons\">\n",
              "\n",
              "  <div class=\"colab-df-container\">\n",
              "    <button class=\"colab-df-convert\" onclick=\"convertToInteractive('df-df9e563d-deb4-4e7c-9fff-7b7acb6fccf4')\"\n",
              "            title=\"Convert this dataframe to an interactive table.\"\n",
              "            style=\"display:none;\">\n",
              "\n",
              "  <svg xmlns=\"http://www.w3.org/2000/svg\" height=\"24px\" viewBox=\"0 -960 960 960\">\n",
              "    <path d=\"M120-120v-720h720v720H120Zm60-500h600v-160H180v160Zm220 220h160v-160H400v160Zm0 220h160v-160H400v160ZM180-400h160v-160H180v160Zm440 0h160v-160H620v160ZM180-180h160v-160H180v160Zm440 0h160v-160H620v160Z\"/>\n",
              "  </svg>\n",
              "    </button>\n",
              "\n",
              "  <style>\n",
              "    .colab-df-container {\n",
              "      display:flex;\n",
              "      gap: 12px;\n",
              "    }\n",
              "\n",
              "    .colab-df-convert {\n",
              "      background-color: #E8F0FE;\n",
              "      border: none;\n",
              "      border-radius: 50%;\n",
              "      cursor: pointer;\n",
              "      display: none;\n",
              "      fill: #1967D2;\n",
              "      height: 32px;\n",
              "      padding: 0 0 0 0;\n",
              "      width: 32px;\n",
              "    }\n",
              "\n",
              "    .colab-df-convert:hover {\n",
              "      background-color: #E2EBFA;\n",
              "      box-shadow: 0px 1px 2px rgba(60, 64, 67, 0.3), 0px 1px 3px 1px rgba(60, 64, 67, 0.15);\n",
              "      fill: #174EA6;\n",
              "    }\n",
              "\n",
              "    .colab-df-buttons div {\n",
              "      margin-bottom: 4px;\n",
              "    }\n",
              "\n",
              "    [theme=dark] .colab-df-convert {\n",
              "      background-color: #3B4455;\n",
              "      fill: #D2E3FC;\n",
              "    }\n",
              "\n",
              "    [theme=dark] .colab-df-convert:hover {\n",
              "      background-color: #434B5C;\n",
              "      box-shadow: 0px 1px 3px 1px rgba(0, 0, 0, 0.15);\n",
              "      filter: drop-shadow(0px 1px 2px rgba(0, 0, 0, 0.3));\n",
              "      fill: #FFFFFF;\n",
              "    }\n",
              "  </style>\n",
              "\n",
              "    <script>\n",
              "      const buttonEl =\n",
              "        document.querySelector('#df-df9e563d-deb4-4e7c-9fff-7b7acb6fccf4 button.colab-df-convert');\n",
              "      buttonEl.style.display =\n",
              "        google.colab.kernel.accessAllowed ? 'block' : 'none';\n",
              "\n",
              "      async function convertToInteractive(key) {\n",
              "        const element = document.querySelector('#df-df9e563d-deb4-4e7c-9fff-7b7acb6fccf4');\n",
              "        const dataTable =\n",
              "          await google.colab.kernel.invokeFunction('convertToInteractive',\n",
              "                                                    [key], {});\n",
              "        if (!dataTable) return;\n",
              "\n",
              "        const docLinkHtml = 'Like what you see? Visit the ' +\n",
              "          '<a target=\"_blank\" href=https://colab.research.google.com/notebooks/data_table.ipynb>data table notebook</a>'\n",
              "          + ' to learn more about interactive tables.';\n",
              "        element.innerHTML = '';\n",
              "        dataTable['output_type'] = 'display_data';\n",
              "        await google.colab.output.renderOutput(dataTable, element);\n",
              "        const docLink = document.createElement('div');\n",
              "        docLink.innerHTML = docLinkHtml;\n",
              "        element.appendChild(docLink);\n",
              "      }\n",
              "    </script>\n",
              "  </div>\n",
              "\n",
              "\n",
              "<div id=\"df-a0cc5c8f-df3c-4694-9ac9-ae6a4e9c1697\">\n",
              "  <button class=\"colab-df-quickchart\" onclick=\"quickchart('df-a0cc5c8f-df3c-4694-9ac9-ae6a4e9c1697')\"\n",
              "            title=\"Suggest charts\"\n",
              "            style=\"display:none;\">\n",
              "\n",
              "<svg xmlns=\"http://www.w3.org/2000/svg\" height=\"24px\"viewBox=\"0 0 24 24\"\n",
              "     width=\"24px\">\n",
              "    <g>\n",
              "        <path d=\"M19 3H5c-1.1 0-2 .9-2 2v14c0 1.1.9 2 2 2h14c1.1 0 2-.9 2-2V5c0-1.1-.9-2-2-2zM9 17H7v-7h2v7zm4 0h-2V7h2v10zm4 0h-2v-4h2v4z\"/>\n",
              "    </g>\n",
              "</svg>\n",
              "  </button>\n",
              "\n",
              "<style>\n",
              "  .colab-df-quickchart {\n",
              "      --bg-color: #E8F0FE;\n",
              "      --fill-color: #1967D2;\n",
              "      --hover-bg-color: #E2EBFA;\n",
              "      --hover-fill-color: #174EA6;\n",
              "      --disabled-fill-color: #AAA;\n",
              "      --disabled-bg-color: #DDD;\n",
              "  }\n",
              "\n",
              "  [theme=dark] .colab-df-quickchart {\n",
              "      --bg-color: #3B4455;\n",
              "      --fill-color: #D2E3FC;\n",
              "      --hover-bg-color: #434B5C;\n",
              "      --hover-fill-color: #FFFFFF;\n",
              "      --disabled-bg-color: #3B4455;\n",
              "      --disabled-fill-color: #666;\n",
              "  }\n",
              "\n",
              "  .colab-df-quickchart {\n",
              "    background-color: var(--bg-color);\n",
              "    border: none;\n",
              "    border-radius: 50%;\n",
              "    cursor: pointer;\n",
              "    display: none;\n",
              "    fill: var(--fill-color);\n",
              "    height: 32px;\n",
              "    padding: 0;\n",
              "    width: 32px;\n",
              "  }\n",
              "\n",
              "  .colab-df-quickchart:hover {\n",
              "    background-color: var(--hover-bg-color);\n",
              "    box-shadow: 0 1px 2px rgba(60, 64, 67, 0.3), 0 1px 3px 1px rgba(60, 64, 67, 0.15);\n",
              "    fill: var(--button-hover-fill-color);\n",
              "  }\n",
              "\n",
              "  .colab-df-quickchart-complete:disabled,\n",
              "  .colab-df-quickchart-complete:disabled:hover {\n",
              "    background-color: var(--disabled-bg-color);\n",
              "    fill: var(--disabled-fill-color);\n",
              "    box-shadow: none;\n",
              "  }\n",
              "\n",
              "  .colab-df-spinner {\n",
              "    border: 2px solid var(--fill-color);\n",
              "    border-color: transparent;\n",
              "    border-bottom-color: var(--fill-color);\n",
              "    animation:\n",
              "      spin 1s steps(1) infinite;\n",
              "  }\n",
              "\n",
              "  @keyframes spin {\n",
              "    0% {\n",
              "      border-color: transparent;\n",
              "      border-bottom-color: var(--fill-color);\n",
              "      border-left-color: var(--fill-color);\n",
              "    }\n",
              "    20% {\n",
              "      border-color: transparent;\n",
              "      border-left-color: var(--fill-color);\n",
              "      border-top-color: var(--fill-color);\n",
              "    }\n",
              "    30% {\n",
              "      border-color: transparent;\n",
              "      border-left-color: var(--fill-color);\n",
              "      border-top-color: var(--fill-color);\n",
              "      border-right-color: var(--fill-color);\n",
              "    }\n",
              "    40% {\n",
              "      border-color: transparent;\n",
              "      border-right-color: var(--fill-color);\n",
              "      border-top-color: var(--fill-color);\n",
              "    }\n",
              "    60% {\n",
              "      border-color: transparent;\n",
              "      border-right-color: var(--fill-color);\n",
              "    }\n",
              "    80% {\n",
              "      border-color: transparent;\n",
              "      border-right-color: var(--fill-color);\n",
              "      border-bottom-color: var(--fill-color);\n",
              "    }\n",
              "    90% {\n",
              "      border-color: transparent;\n",
              "      border-bottom-color: var(--fill-color);\n",
              "    }\n",
              "  }\n",
              "</style>\n",
              "\n",
              "  <script>\n",
              "    async function quickchart(key) {\n",
              "      const quickchartButtonEl =\n",
              "        document.querySelector('#' + key + ' button');\n",
              "      quickchartButtonEl.disabled = true;  // To prevent multiple clicks.\n",
              "      quickchartButtonEl.classList.add('colab-df-spinner');\n",
              "      try {\n",
              "        const charts = await google.colab.kernel.invokeFunction(\n",
              "            'suggestCharts', [key], {});\n",
              "      } catch (error) {\n",
              "        console.error('Error during call to suggestCharts:', error);\n",
              "      }\n",
              "      quickchartButtonEl.classList.remove('colab-df-spinner');\n",
              "      quickchartButtonEl.classList.add('colab-df-quickchart-complete');\n",
              "    }\n",
              "    (() => {\n",
              "      let quickchartButtonEl =\n",
              "        document.querySelector('#df-a0cc5c8f-df3c-4694-9ac9-ae6a4e9c1697 button');\n",
              "      quickchartButtonEl.style.display =\n",
              "        google.colab.kernel.accessAllowed ? 'block' : 'none';\n",
              "    })();\n",
              "  </script>\n",
              "</div>\n",
              "\n",
              "  <div id=\"id_3f9ccfe9-c5a1-4c0f-b57f-a35e90811451\">\n",
              "    <style>\n",
              "      .colab-df-generate {\n",
              "        background-color: #E8F0FE;\n",
              "        border: none;\n",
              "        border-radius: 50%;\n",
              "        cursor: pointer;\n",
              "        display: none;\n",
              "        fill: #1967D2;\n",
              "        height: 32px;\n",
              "        padding: 0 0 0 0;\n",
              "        width: 32px;\n",
              "      }\n",
              "\n",
              "      .colab-df-generate:hover {\n",
              "        background-color: #E2EBFA;\n",
              "        box-shadow: 0px 1px 2px rgba(60, 64, 67, 0.3), 0px 1px 3px 1px rgba(60, 64, 67, 0.15);\n",
              "        fill: #174EA6;\n",
              "      }\n",
              "\n",
              "      [theme=dark] .colab-df-generate {\n",
              "        background-color: #3B4455;\n",
              "        fill: #D2E3FC;\n",
              "      }\n",
              "\n",
              "      [theme=dark] .colab-df-generate:hover {\n",
              "        background-color: #434B5C;\n",
              "        box-shadow: 0px 1px 3px 1px rgba(0, 0, 0, 0.15);\n",
              "        filter: drop-shadow(0px 1px 2px rgba(0, 0, 0, 0.3));\n",
              "        fill: #FFFFFF;\n",
              "      }\n",
              "    </style>\n",
              "    <button class=\"colab-df-generate\" onclick=\"generateWithVariable('df')\"\n",
              "            title=\"Generate code using this dataframe.\"\n",
              "            style=\"display:none;\">\n",
              "\n",
              "  <svg xmlns=\"http://www.w3.org/2000/svg\" height=\"24px\"viewBox=\"0 0 24 24\"\n",
              "       width=\"24px\">\n",
              "    <path d=\"M7,19H8.4L18.45,9,17,7.55,7,17.6ZM5,21V16.75L18.45,3.32a2,2,0,0,1,2.83,0l1.4,1.43a1.91,1.91,0,0,1,.58,1.4,1.91,1.91,0,0,1-.58,1.4L9.25,21ZM18.45,9,17,7.55Zm-12,3A5.31,5.31,0,0,0,4.9,8.1,5.31,5.31,0,0,0,1,6.5,5.31,5.31,0,0,0,4.9,4.9,5.31,5.31,0,0,0,6.5,1,5.31,5.31,0,0,0,8.1,4.9,5.31,5.31,0,0,0,12,6.5,5.46,5.46,0,0,0,6.5,12Z\"/>\n",
              "  </svg>\n",
              "    </button>\n",
              "    <script>\n",
              "      (() => {\n",
              "      const buttonEl =\n",
              "        document.querySelector('#id_3f9ccfe9-c5a1-4c0f-b57f-a35e90811451 button.colab-df-generate');\n",
              "      buttonEl.style.display =\n",
              "        google.colab.kernel.accessAllowed ? 'block' : 'none';\n",
              "\n",
              "      buttonEl.onclick = () => {\n",
              "        google.colab.notebook.generateWithVariable('df');\n",
              "      }\n",
              "      })();\n",
              "    </script>\n",
              "  </div>\n",
              "\n",
              "    </div>\n",
              "  </div>\n"
            ],
            "application/vnd.google.colaboratory.intrinsic+json": {
              "type": "dataframe",
              "variable_name": "df",
              "summary": "{\n  \"name\": \"df\",\n  \"rows\": 3,\n  \"fields\": [\n    {\n      \"column\": \"Titulo\",\n      \"properties\": {\n        \"dtype\": \"string\",\n        \"num_unique_values\": 3,\n        \"samples\": [\n          \"Encerramento de Contratos\",\n          \"Comunica\\u00e7\\u00e3o de Distratos\",\n          \"Agrupamento de regras\"\n        ],\n        \"semantic_type\": \"\",\n        \"description\": \"\"\n      }\n    },\n    {\n      \"column\": \"Conteudo\",\n      \"properties\": {\n        \"dtype\": \"string\",\n        \"num_unique_values\": 3,\n        \"samples\": [\n          \"Agora, os administradores podem cadastrar novos motivos de cancelamento e habilit\\u00e1-los para unidades de neg\\u00f3cios espec\\u00edficas. Na mesma tela, tamb\\u00e9m ser\\u00e1 poss\\u00edvel ativar/desativar o fluxo de distrato por e-mail para cada motivo de cancelamento, permitindo tamb\\u00e9m a sele\\u00e7\\u00e3o dos destinat\\u00e1rios das notifica\\u00e7\\u00f5es de distrato.\",\n          \"Quando ocorrer uma solicita\\u00e7\\u00e3o de distrato, o sistema notifica o cliente com base no(s) motivo(s) selecionado(s), enviando o e-mail na l\\u00edngua oficial do pa\\u00eds do cliente. N\\u00e3o sendo Portugu\\u00eas ou Espanhol, o padr\\u00e3o ser\\u00e1 Ingl\\u00eas.\",\n          \"Visando a facilidade de configurar contratos com c\\u00e1lculos que muitas vezes se repetem, foi disponibilizado um agrupamento de regras no sistema, assim ao configurar um agrupamento para as regras na unidade especifica, o sistema possibilita carregar e configurar no contrato as regras do agrupamento\\nAp\\u00f3s definir um agrupamento em um item de contrato, tamb\\u00e9m \\u00e9 possivel filtrar os mesmos pela tela de contratos, facilitando a localiza\\u00e7\\u00e3o de contratos com os tipos de configura\\u00e7\\u00f5es especificas\"\n        ],\n        \"semantic_type\": \"\",\n        \"description\": \"\"\n      }\n    },\n    {\n      \"column\": \"Embeddings\",\n      \"properties\": {\n        \"dtype\": \"object\",\n        \"semantic_type\": \"\",\n        \"description\": \"\"\n      }\n    }\n  ]\n}"
            }
          },
          "metadata": {},
          "execution_count": 43
        }
      ]
    },
    {
      "cell_type": "markdown",
      "source": [
        "Gerando consultas em cima dos dados da base"
      ],
      "metadata": {
        "id": "Cup4jUOpmiTg"
      }
    },
    {
      "cell_type": "code",
      "source": [
        "def consultar_dados(query, base, model):\n",
        "  embeddings = genai.embed_content(model=model_embedding,\n",
        "                                  content=query,\n",
        "                                  task_type=\"RETRIEVAL_QUERY\")\n",
        "  produtos_escalares =  np.dot(np.stack(base[\"Embeddings\"]), embeddings[\"embedding\"])\n",
        "  #localizar o argumento maximo (mais proximo da informação pesquisada)\n",
        "  indice = np.argmax(produtos_escalares)\n",
        "  #localiza no DataFrame o conteúdo com o mesmo indice\n",
        "  return base.iloc[indice][\"Conteudo\"]"
      ],
      "metadata": {
        "id": "xMLAJ4BPmnEZ"
      },
      "execution_count": 56,
      "outputs": []
    },
    {
      "cell_type": "markdown",
      "source": [
        "Usando a função para pesquisar informações dentro da base de dados que foi \"Embedada\""
      ],
      "metadata": {
        "id": "0yDCSGCFqClM"
      }
    },
    {
      "cell_type": "code",
      "source": [
        "consulta = \"Como fazer café?\"\n",
        "resultado = consultar_dados(consulta, df, model_embedding)\n",
        "print(resultado)"
      ],
      "metadata": {
        "colab": {
          "base_uri": "https://localhost:8080/",
          "height": 72
        },
        "id": "qloM4wzCqKg7",
        "outputId": "0f43c532-f963-4012-809e-2227b564edb9"
      },
      "execution_count": 57,
      "outputs": [
        {
          "output_type": "stream",
          "name": "stdout",
          "text": [
            "Visando a facilidade de configurar contratos com cálculos que muitas vezes se repetem, foi disponibilizado um agrupamento de regras no sistema, assim ao configurar um agrupamento para as regras na unidade especifica, o sistema possibilita carregar e configurar no contrato as regras do agrupamento\n",
            "Após definir um agrupamento em um item de contrato, também é possivel filtrar os mesmos pela tela de contratos, facilitando a localização de contratos com os tipos de configurações especificas\n"
          ]
        }
      ]
    }
  ]
}